{
 "cells": [
  {
   "cell_type": "code",
   "execution_count": 4,
   "id": "fbb27da9",
   "metadata": {},
   "outputs": [],
   "source": [
    "from sympy import *\n",
    "x = Symbol('x')\n",
    "y = Symbol('y')\n",
    "f = x**2*y - x*y**2\n",
    "dfdx=diff(f, x)\n",
    "dfdy=diff(f, y)\n",
    "\n",
    "def grad(x0,y0):\n",
    "    if (isinstance(x0, float) | isinstance(x0, int)) & (isinstance(y0, float) | isinstance(y0, int)):\n",
    "        a = dfdx.evalf(2,subs={x: x0, y:y0})\n",
    "        b = dfdy.evalf(2,subs={x: x0, y:y0}) \n",
    "        sol = [a,b]\n",
    "        return(sol)\n",
    "    else:\n",
    "        print(\"Invalid Parameters\")\n",
    "    "
   ]
  },
  {
   "cell_type": "code",
   "execution_count": 5,
   "id": "7002348f",
   "metadata": {},
   "outputs": [
    {
     "data": {
      "text/plain": [
       "[7.0, 8.0]"
      ]
     },
     "execution_count": 5,
     "metadata": {},
     "output_type": "execute_result"
    }
   ],
   "source": [
    "grad(4,1)"
   ]
  },
  {
   "cell_type": "code",
   "execution_count": 7,
   "id": "037e43ee",
   "metadata": {},
   "outputs": [
    {
     "name": "stdout",
     "output_type": "stream",
     "text": [
      "Invalid Parameters\n"
     ]
    }
   ],
   "source": [
    "grad(\"a\",\"b\")"
   ]
  }
 ],
 "metadata": {
  "kernelspec": {
   "display_name": "Python 3",
   "language": "python",
   "name": "python3"
  },
  "language_info": {
   "codemirror_mode": {
    "name": "ipython",
    "version": 3
   },
   "file_extension": ".py",
   "mimetype": "text/x-python",
   "name": "python",
   "nbconvert_exporter": "python",
   "pygments_lexer": "ipython3",
   "version": "3.8.8"
  }
 },
 "nbformat": 4,
 "nbformat_minor": 5
}
